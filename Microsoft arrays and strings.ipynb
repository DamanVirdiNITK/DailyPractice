{
 "cells": [
  {
   "cell_type": "markdown",
   "metadata": {},
   "source": [
    "1.Two Sum "
   ]
  },
  {
   "cell_type": "code",
   "execution_count": null,
   "metadata": {},
   "outputs": [],
   "source": [
    "#Method 1 Brute Force\n",
    "    def twoSum(self, nums: List[int], target: int) -> List[int]:\n",
    "        for i in range(0, len(nums)):\n",
    "            for j in range(i+1, len(nums)):\n",
    "                if nums[i] + nums[j] == target:\n",
    "                    return [i,j]\n",
    "                \n",
    "                \n",
    "#TC : O(n^2)\n",
    "#SC : O(1)"
   ]
  },
  {
   "cell_type": "code",
   "execution_count": null,
   "metadata": {},
   "outputs": [],
   "source": [
    "#Method -2 Dictionary\n",
    "import numpy as np\n",
    "class Solution:\n",
    "    def twoSum(self, nums: List[int], target: int) -> List[int]:\n",
    "        numsDict = Counter(nums)\n",
    "        for i in numsDict:\n",
    "            if target - i in nums :\n",
    "                #if i == target/2 but have only one occurrence\n",
    "                if numsDict[i]== 1 and target-i == i:\n",
    "                    continue\n",
    "                \n",
    "                #if i == target/2 but have two occurrences\n",
    "                if numsDict[i] == 2:\n",
    "                    output = [nums.index(i)]\n",
    "                    nums.remove(i)\n",
    "                    output.append(nums.index(i)+1)\n",
    "                    return output\n",
    "                   \n",
    "                \n",
    "                return([nums.index(i), nums.index(target-i)])\n",
    "             "
   ]
  },
  {
   "cell_type": "code",
   "execution_count": null,
   "metadata": {},
   "outputs": [],
   "source": []
  },
  {
   "cell_type": "markdown",
   "metadata": {},
   "source": [
    "125. Valid Palindrome"
   ]
  },
  {
   "cell_type": "code",
   "execution_count": null,
   "metadata": {},
   "outputs": [],
   "source": [
    "#Method-1 Iteration\n",
    "def isPalindrome(self, s: str) -> bool:\n",
    "        s2 = [i.lower() for i in s if i.isalnum()]\n",
    "        return s2 == s2[::-1]\n",
    "    \n",
    "#TC = O(n)\n",
    "#SC = O(1)"
   ]
  },
  {
   "cell_type": "code",
   "execution_count": null,
   "metadata": {},
   "outputs": [],
   "source": [
    "#Method-2 2-Pointer\n",
    "    def isPalindrome(self, s: str) -> bool:\n",
    "        s = s.lower()\n",
    "        i, j = 0,len(s)-1\n",
    "        \n",
    "        while i< j:\n",
    "            while i < j and not s[i].isalnum():\n",
    "                i +=1\n",
    "            while i < j and not s[j].isalnum():\n",
    "                j -=1\n",
    "                \n",
    "            if s[i] != s[j]:\n",
    "                return False\n",
    "            \n",
    "            i +=1\n",
    "            j -=1\n",
    "            \n",
    "        return True\n",
    "                \n",
    "#Tc = O(n)\n",
    "#SC = O(1) "
   ]
  },
  {
   "cell_type": "code",
   "execution_count": null,
   "metadata": {},
   "outputs": [],
   "source": []
  },
  {
   "cell_type": "code",
   "execution_count": null,
   "metadata": {},
   "outputs": [],
   "source": []
  },
  {
   "cell_type": "markdown",
   "metadata": {},
   "source": [
    "73. Set Matrix Zeroes"
   ]
  },
  {
   "cell_type": "code",
   "execution_count": null,
   "metadata": {},
   "outputs": [],
   "source": [
    "#Method-1:\n",
    "#Add rows and columns into respective sets which have to be made zero\n",
    "def setZeroes(self, matrix: List[List[int]]) -> None:\n",
    "        \"\"\"\n",
    "        Do not return anything, modify matrix in-place instead.\n",
    "        \"\"\"\n",
    "        r = len(matrix)\n",
    "        c = len(matrix[0])\n",
    "        \n",
    "        rowset, colset = set(), set()\n",
    "        \n",
    "        for i in range(0, r):\n",
    "            for j in range(0, c):\n",
    "                if matrix[i][j] == 0:\n",
    "                    rowset.add(i)\n",
    "                    colset.add(j)\n",
    "                    \n",
    "        for i in range(0, r):\n",
    "            for j in range(0, c):\n",
    "                if i in rowset or j in colset:\n",
    "                    matrix[i][j] = 0\n",
    "\n",
    "                    \n",
    "#TC -O(m*n)\n",
    "#SC - O(m+n)"
   ]
  },
  {
   "cell_type": "code",
   "execution_count": null,
   "metadata": {},
   "outputs": [],
   "source": [
    "#Method-2\n",
    "\n",
    "#Pending\n",
    "#TC- O(m*N)\n",
    "#SC - O(1)"
   ]
  },
  {
   "cell_type": "code",
   "execution_count": null,
   "metadata": {},
   "outputs": [],
   "source": []
  },
  {
   "cell_type": "code",
   "execution_count": null,
   "metadata": {},
   "outputs": [],
   "source": []
  },
  {
   "cell_type": "markdown",
   "metadata": {},
   "source": [
    "48. Rotate Image (90degree)"
   ]
  },
  {
   "cell_type": "code",
   "execution_count": null,
   "metadata": {},
   "outputs": [],
   "source": [
    "#Method1: Rotate Groups of Four Cells\n",
    "    def rotate(self, matrix: List[List[int]]) -> None:\n",
    "        \"\"\"\n",
    "        Do not return anything, modify matrix in-place instead.\n",
    "        \"\"\"\n",
    "        n = len(matrix[0])\n",
    "        for i in range(n//2+n%2):\n",
    "            for j in range(n//2):\n",
    "                temp = matrix[n-1-j][i]         \n",
    "                #bottom left  gets value of bottom right \n",
    "                matrix[n-1-j][i] = matrix[n-1-i][n-j-1]\n",
    "                #bottom right gets value of top right\n",
    "                matrix[n-i-1][n-j-1] = matrix[j][n-1-i]\n",
    "                #top right gets value of top left\n",
    "                matrix[j][n-1-i] = matrix[i][j]\n",
    "                #top left gets value of temp\n",
    "                matrix[i][j] = temp\n",
    "                \n",
    "#TC = O(n)\n",
    "#SC = O(1)"
   ]
  },
  {
   "cell_type": "code",
   "execution_count": null,
   "metadata": {},
   "outputs": [],
   "source": [
    "#Method-2 Reverse on Diagonal and then Reverse Left to Right\n",
    "#TC = O(n)\n",
    "#SC = O(1)"
   ]
  },
  {
   "cell_type": "code",
   "execution_count": null,
   "metadata": {},
   "outputs": [],
   "source": []
  },
  {
   "cell_type": "code",
   "execution_count": null,
   "metadata": {},
   "outputs": [],
   "source": []
  },
  {
   "cell_type": "code",
   "execution_count": null,
   "metadata": {},
   "outputs": [],
   "source": []
  },
  {
   "cell_type": "code",
   "execution_count": null,
   "metadata": {},
   "outputs": [],
   "source": []
  },
  {
   "cell_type": "markdown",
   "metadata": {},
   "source": [
    "344. Reverse String"
   ]
  },
  {
   "cell_type": "code",
   "execution_count": null,
   "metadata": {},
   "outputs": [],
   "source": [
    "#Method-1 \n",
    " def reverseString(self, s):\n",
    "        s.reverse()"
   ]
  },
  {
   "cell_type": "code",
   "execution_count": null,
   "metadata": {},
   "outputs": [],
   "source": [
    "#Method -2 Recursion\n",
    "    def reverseString(self, s):\n",
    "        def helper(left, right):\n",
    "            if left < right:\n",
    "                s[left], s[right] = s[right], s[left]\n",
    "                helper(left + 1, right - 1)\n",
    "\n",
    "        helper(0, len(s) - 1)\n",
    "#TC - O(N)\n",
    "#SC - O(N)"
   ]
  },
  {
   "cell_type": "code",
   "execution_count": null,
   "metadata": {},
   "outputs": [],
   "source": [
    "#Method-3  Two Pointer Approach\n",
    "    def reverseString(self, s):\n",
    "        left, right = 0, len(s) - 1\n",
    "        while left < right:\n",
    "            s[left], s[right] = s[right], s[left]\n",
    "            left, right = left + 1, right - 1\n",
    "            \n",
    "#TC - O(N)\n",
    "#SC - O(1)"
   ]
  },
  {
   "cell_type": "code",
   "execution_count": null,
   "metadata": {},
   "outputs": [],
   "source": []
  },
  {
   "cell_type": "code",
   "execution_count": null,
   "metadata": {},
   "outputs": [],
   "source": []
  },
  {
   "cell_type": "code",
   "execution_count": null,
   "metadata": {},
   "outputs": [],
   "source": []
  },
  {
   "cell_type": "markdown",
   "metadata": {},
   "source": [
    "151. Reverse Words in a String"
   ]
  },
  {
   "cell_type": "code",
   "execution_count": null,
   "metadata": {},
   "outputs": [],
   "source": [
    "#Method 1: Built-In functions\n",
    "def reverseWords(self, s: str) -> str:\n",
    "        return \" \".join(s.split()[::-1])\n",
    "    \n",
    "#TC - O(n)\n",
    "#SC - O(n)\n",
    "\n",
    "#other methods having same complexities so leaving for now"
   ]
  },
  {
   "cell_type": "code",
   "execution_count": null,
   "metadata": {},
   "outputs": [],
   "source": [
    "s = \"Fam\"\n",
    "s.split()"
   ]
  },
  {
   "cell_type": "code",
   "execution_count": null,
   "metadata": {},
   "outputs": [],
   "source": []
  }
 ],
 "metadata": {
  "kernelspec": {
   "display_name": "Python 3",
   "language": "python",
   "name": "python3"
  },
  "language_info": {
   "codemirror_mode": {
    "name": "ipython",
    "version": 3
   },
   "file_extension": ".py",
   "mimetype": "text/x-python",
   "name": "python",
   "nbconvert_exporter": "python",
   "pygments_lexer": "ipython3",
   "version": "3.8.5"
  }
 },
 "nbformat": 4,
 "nbformat_minor": 4
}
